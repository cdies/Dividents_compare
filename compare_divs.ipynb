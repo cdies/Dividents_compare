{
 "cells": [
  {
   "cell_type": "code",
   "execution_count": 1,
   "metadata": {},
   "outputs": [],
   "source": [
    "# дивидентная доходность"
   ]
  },
  {
   "cell_type": "code",
   "execution_count": 2,
   "metadata": {},
   "outputs": [],
   "source": [
    "%matplotlib inline\n",
    "import numpy as np\n",
    "import pandas as pd\n",
    "from datetime import datetime, timedelta\n",
    "from tinkoff.invest import Client, CandleInterval\n",
    "from decimal import Decimal\n",
    "from datetime import datetime\n",
    "import matplotlib as mpl\n",
    "import matplotlib.pyplot as plt\n",
    "import mplfinance as mpf\n",
    "\n",
    "plt.rcParams['figure.figsize'] = [18, 6]"
   ]
  },
  {
   "cell_type": "code",
   "execution_count": 3,
   "metadata": {},
   "outputs": [],
   "source": [
    "token = 'ваш_тинькофф_токен'"
   ]
  },
  {
   "cell_type": "code",
   "execution_count": 4,
   "metadata": {},
   "outputs": [],
   "source": [
    "# удаление времени, остаётся только дата\n",
    "def convert_index(df):\n",
    "    df = df.rename_axis('date').reset_index()\n",
    "    df['date'] = df['date'].apply(lambda x: x.date())\n",
    "    df['date'] =  pd.to_datetime(df['date'])\n",
    "    df = df.set_index('date')\n",
    "    return df"
   ]
  },
  {
   "cell_type": "code",
   "execution_count": 5,
   "metadata": {},
   "outputs": [],
   "source": [
    "def units_nano_convert(d):\n",
    "    # https://github.com/Tinkoff/invest-python/issues/45\n",
    "    nano = d['nano'] / Decimal(\"10e8\")\n",
    "    price = d['units'] + float(nano)\n",
    "    return price"
   ]
  },
  {
   "cell_type": "code",
   "execution_count": 6,
   "metadata": {},
   "outputs": [],
   "source": [
    "def get_candles(figi, from_time, to_time):\n",
    "\n",
    "    with Client(token) as client:\n",
    "        data = client.market_data.get_candles(\n",
    "                figi=figi,\n",
    "                from_=from_time,\n",
    "                to=to_time,\n",
    "                interval=CandleInterval.CANDLE_INTERVAL_DAY\n",
    "            ).candles\n",
    "        \n",
    "    if len(data) == 0:\n",
    "        return None\n",
    "        \n",
    "    candles = pd.DataFrame(data)\n",
    "\n",
    "    for col in ['open', 'high', 'low', 'close']:\n",
    "        candles[col] = candles[col].apply(units_nano_convert)\n",
    "\n",
    "    candles = candles[['time', 'open', 'high', 'low', 'close']]\n",
    "\n",
    "    # candles['time'] = candles['time'].dt.tz_convert('Europe/Moscow')\n",
    "    candles.set_index('time', inplace=True)\n",
    "\n",
    "    candles = candles.drop_duplicates()\n",
    "    \n",
    "    return candles"
   ]
  },
  {
   "cell_type": "code",
   "execution_count": 7,
   "metadata": {},
   "outputs": [],
   "source": [
    "divs = pd.read_csv('divs.csv')\n",
    "divs['date'] = pd.to_datetime(divs['date'], format='%d.%m.%Y')"
   ]
  },
  {
   "cell_type": "code",
   "execution_count": 8,
   "metadata": {},
   "outputs": [
    {
     "data": {
      "text/html": [
       "<div>\n",
       "<style scoped>\n",
       "    .dataframe tbody tr th:only-of-type {\n",
       "        vertical-align: middle;\n",
       "    }\n",
       "\n",
       "    .dataframe tbody tr th {\n",
       "        vertical-align: top;\n",
       "    }\n",
       "\n",
       "    .dataframe thead th {\n",
       "        text-align: right;\n",
       "    }\n",
       "</style>\n",
       "<table border=\"1\" class=\"dataframe\">\n",
       "  <thead>\n",
       "    <tr style=\"text-align: right;\">\n",
       "      <th></th>\n",
       "      <th>ticker</th>\n",
       "      <th>date</th>\n",
       "      <th>div_sum</th>\n",
       "    </tr>\n",
       "  </thead>\n",
       "  <tbody>\n",
       "    <tr>\n",
       "      <th>0</th>\n",
       "      <td>GAZP</td>\n",
       "      <td>2022-07-18</td>\n",
       "      <td>52.53</td>\n",
       "    </tr>\n",
       "    <tr>\n",
       "      <th>1</th>\n",
       "      <td>NVTK</td>\n",
       "      <td>2022-04-29</td>\n",
       "      <td>43.77</td>\n",
       "    </tr>\n",
       "    <tr>\n",
       "      <th>2</th>\n",
       "      <td>GMKN</td>\n",
       "      <td>2022-06-09</td>\n",
       "      <td>1166.22</td>\n",
       "    </tr>\n",
       "    <tr>\n",
       "      <th>3</th>\n",
       "      <td>TATN</td>\n",
       "      <td>2022-07-01</td>\n",
       "      <td>16.10</td>\n",
       "    </tr>\n",
       "    <tr>\n",
       "      <th>4</th>\n",
       "      <td>MTSS</td>\n",
       "      <td>2022-07-08</td>\n",
       "      <td>33.85</td>\n",
       "    </tr>\n",
       "  </tbody>\n",
       "</table>\n",
       "</div>"
      ],
      "text/plain": [
       "  ticker       date  div_sum\n",
       "0   GAZP 2022-07-18    52.53\n",
       "1   NVTK 2022-04-29    43.77\n",
       "2   GMKN 2022-06-09  1166.22\n",
       "3   TATN 2022-07-01    16.10\n",
       "4   MTSS 2022-07-08    33.85"
      ]
     },
     "execution_count": 8,
     "metadata": {},
     "output_type": "execute_result"
    }
   ],
   "source": [
    "divs"
   ]
  },
  {
   "cell_type": "code",
   "execution_count": 9,
   "metadata": {},
   "outputs": [],
   "source": [
    "# Все figi и тикеры\n",
    "with Client(token) as client:\n",
    "    shares = client.instruments.shares()\n",
    "\n",
    "all_stocks = pd.DataFrame(shares.instruments)\n",
    "all_stocks = all_stocks[['ticker', 'figi']]\n",
    "\n",
    "bc = all_stocks[all_stocks['ticker'].isin(divs['ticker'])]"
   ]
  },
  {
   "cell_type": "code",
   "execution_count": 10,
   "metadata": {},
   "outputs": [],
   "source": [
    "bc = bc.merge(divs, on='ticker')"
   ]
  },
  {
   "cell_type": "code",
   "execution_count": 11,
   "metadata": {},
   "outputs": [
    {
     "data": {
      "text/html": [
       "<div>\n",
       "<style scoped>\n",
       "    .dataframe tbody tr th:only-of-type {\n",
       "        vertical-align: middle;\n",
       "    }\n",
       "\n",
       "    .dataframe tbody tr th {\n",
       "        vertical-align: top;\n",
       "    }\n",
       "\n",
       "    .dataframe thead th {\n",
       "        text-align: right;\n",
       "    }\n",
       "</style>\n",
       "<table border=\"1\" class=\"dataframe\">\n",
       "  <thead>\n",
       "    <tr style=\"text-align: right;\">\n",
       "      <th></th>\n",
       "      <th>ticker</th>\n",
       "      <th>figi</th>\n",
       "      <th>date</th>\n",
       "      <th>div_sum</th>\n",
       "    </tr>\n",
       "  </thead>\n",
       "  <tbody>\n",
       "    <tr>\n",
       "      <th>0</th>\n",
       "      <td>GMKN</td>\n",
       "      <td>BBG004731489</td>\n",
       "      <td>2022-06-09</td>\n",
       "      <td>1166.22</td>\n",
       "    </tr>\n",
       "    <tr>\n",
       "      <th>1</th>\n",
       "      <td>GAZP</td>\n",
       "      <td>BBG004730RP0</td>\n",
       "      <td>2022-07-18</td>\n",
       "      <td>52.53</td>\n",
       "    </tr>\n",
       "    <tr>\n",
       "      <th>2</th>\n",
       "      <td>TATN</td>\n",
       "      <td>BBG004RVFFC0</td>\n",
       "      <td>2022-07-01</td>\n",
       "      <td>16.10</td>\n",
       "    </tr>\n",
       "    <tr>\n",
       "      <th>3</th>\n",
       "      <td>MTSS</td>\n",
       "      <td>BBG004S681W1</td>\n",
       "      <td>2022-07-08</td>\n",
       "      <td>33.85</td>\n",
       "    </tr>\n",
       "    <tr>\n",
       "      <th>4</th>\n",
       "      <td>NVTK</td>\n",
       "      <td>BBG00475KKY8</td>\n",
       "      <td>2022-04-29</td>\n",
       "      <td>43.77</td>\n",
       "    </tr>\n",
       "  </tbody>\n",
       "</table>\n",
       "</div>"
      ],
      "text/plain": [
       "  ticker          figi       date  div_sum\n",
       "0   GMKN  BBG004731489 2022-06-09  1166.22\n",
       "1   GAZP  BBG004730RP0 2022-07-18    52.53\n",
       "2   TATN  BBG004RVFFC0 2022-07-01    16.10\n",
       "3   MTSS  BBG004S681W1 2022-07-08    33.85\n",
       "4   NVTK  BBG00475KKY8 2022-04-29    43.77"
      ]
     },
     "execution_count": 11,
     "metadata": {},
     "output_type": "execute_result"
    }
   ],
   "source": [
    "bc.head()"
   ]
  },
  {
   "cell_type": "code",
   "execution_count": 12,
   "metadata": {},
   "outputs": [],
   "source": [
    "MONTHS = 4\n",
    "DAYS_SHOW = 60"
   ]
  },
  {
   "cell_type": "code",
   "execution_count": 13,
   "metadata": {},
   "outputs": [],
   "source": [
    "# Все выходные дни\n",
    "# !wget http://xmlcalendar.ru/data/ru/2022/calendar.txt"
   ]
  },
  {
   "cell_type": "code",
   "execution_count": 14,
   "metadata": {},
   "outputs": [],
   "source": [
    "# Выходные дни (тинёк \"условно\" торгует GAZP по выходным, нам они будут не нужны)\n",
    "holidays = np.loadtxt('calendar.txt', dtype=str)\n",
    "holidays = pd.to_datetime(holidays)"
   ]
  },
  {
   "cell_type": "code",
   "execution_count": 15,
   "metadata": {},
   "outputs": [],
   "source": [
    "df = pd.DataFrame()\n",
    "\n",
    "for _, row in bc.iterrows():\n",
    "    from_day = row['date'] - pd.offsets.DateOffset(months=MONTHS)\n",
    "    \n",
    "    temp = get_candles(row['figi'], from_day, row['date'])['close']\n",
    "    \n",
    "    # Расчёт доходности дивов от цены в %\n",
    "    temp = np.round( (row['div_sum'] * 100) / temp, 2)\n",
    "    \n",
    "    temp.name = row['ticker']\n",
    "    \n",
    "    temp = convert_index(temp)\n",
    "    \n",
    "    # Удаляем выходные\n",
    "    temp = temp[~temp.index.isin(holidays)]\n",
    "    \n",
    "    temp = temp.sort_index()\n",
    "    temp = temp.fillna(method='ffill')\n",
    "    \n",
    "    date_now = pd.Timestamp.now()\n",
    "    if row['date'] < date_now:\n",
    "        temp = temp[-DAYS_SHOW:]\n",
    "    else:\n",
    "        # Если дата выплаты дивидентов в будущем, то оставляем до неё только рабочие дни (см график)\n",
    "        days = np.sum( ~pd.date_range(date_now.date(), row['date']).isin(holidays) )\n",
    "        temp = temp[-DAYS_SHOW+days:]\n",
    "    \n",
    "    temp = temp.reset_index(drop=True)\n",
    "    # temp.index += 1\n",
    "    \n",
    "    \n",
    "    df = pd.concat([df, temp], axis=1)\n",
    "\n",
    "    # if row['ticker'] == 'GAZP':\n",
    "    #     break\n",
    "    \n",
    "df.index = df.index[::-1]"
   ]
  },
  {
   "cell_type": "code",
   "execution_count": 16,
   "metadata": {},
   "outputs": [
    {
     "data": {
      "text/plain": [
       "(60, 5)"
      ]
     },
     "execution_count": 16,
     "metadata": {},
     "output_type": "execute_result"
    }
   ],
   "source": [
    "df.shape"
   ]
  },
  {
   "cell_type": "code",
   "execution_count": 18,
   "metadata": {},
   "outputs": [
    {
     "data": {
      "image/png": "[encoded data removed]",
      "text/plain": [
       "<Figure size 1296x432 with 1 Axes>"
      ]
     },
     "metadata": {
      "needs_background": "light"
     },
     "output_type": "display_data"
    }
   ],
   "source": [
    "ax = df.plot(grid=True, xticks=df.index, yticks=range(1, round(df.max().max() + 1) ) )\n",
    "plt.gca().invert_xaxis()\n",
    "plt.legend( [col + ': ' + str(df[col][df[col].last_valid_index()]) + '%' for col in df.columns] )\n",
    "\n",
    "ax.figure.savefig('divs_change.png', facecolor = 'white', dpi=200)"
   ]
  },
  {
   "cell_type": "code",
   "execution_count": null,
   "metadata": {},
   "outputs": [],
   "source": []
  }
 ],
 "metadata": {
  "kernelspec": {
   "display_name": "Python 3 (ipykernel)",
   "language": "python",
   "name": "python3"
  },
  "language_info": {
   "codemirror_mode": {
    "name": "ipython",
    "version": 3
   },
   "file_extension": ".py",
   "mimetype": "text/x-python",
   "name": "python",
   "nbconvert_exporter": "python",
   "pygments_lexer": "ipython3",
   "version": "3.9.7"
  }
 },
 "nbformat": 4,
 "nbformat_minor": 4
}
