{
 "cells": [
  {
   "cell_type": "code",
   "execution_count": 1,
   "id": "e84f1c67-2c04-4e61-8572-5650b74b1b5d",
   "metadata": {},
   "outputs": [],
   "source": [
    "import numpy as np"
   ]
  },
  {
   "cell_type": "code",
   "execution_count": 2,
   "id": "c480cd00",
   "metadata": {},
   "outputs": [],
   "source": [
    "divs = 52.53"
   ]
  },
  {
   "cell_type": "code",
   "execution_count": 16,
   "id": "c12b32cc-fd67-46a0-a5d2-cc2ff953fafa",
   "metadata": {},
   "outputs": [
    {
     "name": "stdout",
     "output_type": "stream",
     "text": [
      "290   18.11\n",
      "320   16.42\n",
      "350   15.01\n",
      "380   13.82\n",
      "410   12.81\n",
      "440   11.94\n"
     ]
    }
   ],
   "source": [
    "for price in range(290, 460, 30):\n",
    "    percent = round((divs * 100) / price, 2)\n",
    "    print(price, ' ' ,percent)"
   ]
  },
  {
   "cell_type": "markdown",
   "id": "1cb206bf-870f-4f7c-81ac-72d2d49e4913",
   "metadata": {},
   "source": [
    "Рассчитал процент дивов (52.53р) от цены \n",
    "\n",
    "цена  %\n",
    "300   17.51\n",
    "301   17.45\n",
    "302   17.39\n",
    "303   17.34\n",
    "304   17.28\n",
    "305   17.22\n",
    "306   17.17\n",
    "307   17.11 - размер дивов здесь покрывает текущую инфляцию 17,1%\n",
    "308   17.06\n",
    "309   17.0\n",
    "310   16.95\n",
    "311   16.89\n",
    "312   16.84\n",
    "313   16.78\n",
    "314   16.73\n",
    "315   16.68\n",
    "316   16.62\n",
    "317   16.57\n",
    "318   16.52\n",
    "319   16.47\n",
    "320   16.42\n",
    "\n",
    "Текущая инфляция за май 17,1% (см www.cbr.ru), а это у нас цена 307, учтывая это, не думаю, что сильно ниже 307 просядет. Хотя конечно кто знает. "
   ]
  },
  {
   "cell_type": "code",
   "execution_count": 5,
   "id": "e47b4dab-ba91-40be-91c5-f09ef2651cd1",
   "metadata": {},
   "outputs": [
    {
     "name": "stdout",
     "output_type": "stream",
     "text": [
      "290.0   18.11\n",
      "290.1   18.11\n",
      "290.2   18.1\n",
      "290.3   18.1\n",
      "290.4   18.09\n",
      "290.5   18.08\n",
      "290.6   18.08\n",
      "290.7   18.07\n",
      "290.8   18.06\n",
      "290.9   18.06\n",
      "291.0   18.05\n",
      "291.1   18.05\n",
      "291.2   18.04\n",
      "291.3   18.03\n",
      "291.4   18.03\n",
      "291.5   18.02\n",
      "291.6   18.01\n",
      "291.7   18.01\n",
      "291.8   18.0\n",
      "291.9   18.0\n",
      "292.0   17.99\n",
      "292.1   17.98\n",
      "292.2   17.98\n",
      "292.3   17.97\n",
      "292.4   17.97\n",
      "292.5   17.96\n",
      "292.6   17.95\n",
      "292.7   17.95\n",
      "292.8   17.94\n",
      "292.9   17.93\n",
      "293.0   17.93\n",
      "293.1   17.92\n",
      "293.2   17.92\n",
      "293.3   17.91\n",
      "293.4   17.9\n",
      "293.5   17.9\n",
      "293.6   17.89\n",
      "293.7   17.89\n",
      "293.8   17.88\n",
      "293.9   17.87\n",
      "294.0   17.87\n",
      "294.1   17.86\n",
      "294.2   17.86\n",
      "294.3   17.85\n",
      "294.4   17.84\n",
      "294.5   17.84\n",
      "294.6   17.83\n",
      "294.7   17.82\n",
      "294.8   17.82\n",
      "294.9   17.81\n"
     ]
    }
   ],
   "source": [
    "for price in np.arange(290, 295, 0.1):\n",
    "    percent = round((divs * 100) / price, 2)\n",
    "    print(round(price, 1), ' ' ,percent)    "
   ]
  },
  {
   "cell_type": "code",
   "execution_count": null,
   "id": "d3912c0f-e3f3-4ab7-ba9c-4337e1341070",
   "metadata": {},
   "outputs": [],
   "source": []
  },
  {
   "cell_type": "code",
   "execution_count": null,
   "id": "49fc5a52-138f-4028-963c-21da5b014a4d",
   "metadata": {},
   "outputs": [],
   "source": []
  },
  {
   "cell_type": "code",
   "execution_count": null,
   "id": "6331a677-3937-4a2d-8872-57b5202a64e1",
   "metadata": {},
   "outputs": [],
   "source": []
  },
  {
   "cell_type": "code",
   "execution_count": null,
   "id": "205b01a8-b6c1-40be-a839-29e70c116519",
   "metadata": {},
   "outputs": [],
   "source": []
  },
  {
   "cell_type": "code",
   "execution_count": null,
   "id": "1bd8bb2a-7132-479c-ba47-b1bee25240db",
   "metadata": {},
   "outputs": [],
   "source": []
  },
  {
   "cell_type": "code",
   "execution_count": null,
   "id": "ad54f6e8-091e-4676-8c92-7f97bab74788",
   "metadata": {},
   "outputs": [],
   "source": []
  },
  {
   "cell_type": "code",
   "execution_count": null,
   "id": "1ac7a0c9-e5d3-4cf0-9674-e8a08df2fd95",
   "metadata": {},
   "outputs": [],
   "source": []
  },
  {
   "cell_type": "code",
   "execution_count": null,
   "id": "bf7bbfac-83bc-42eb-a86f-be19dc13e001",
   "metadata": {},
   "outputs": [],
   "source": []
  },
  {
   "cell_type": "code",
   "execution_count": null,
   "id": "02030080-1c34-48a2-9547-4b97696349d6",
   "metadata": {},
   "outputs": [],
   "source": []
  },
  {
   "cell_type": "code",
   "execution_count": null,
   "id": "c58eea24-a3ee-4901-bff1-12d83b241828",
   "metadata": {},
   "outputs": [],
   "source": []
  },
  {
   "cell_type": "code",
   "execution_count": null,
   "id": "85f7aecd-f444-46f6-a0b1-8d7bac541ddb",
   "metadata": {},
   "outputs": [],
   "source": []
  },
  {
   "cell_type": "code",
   "execution_count": null,
   "id": "0d3a568f-f387-429c-b231-7ad8cb58538d",
   "metadata": {},
   "outputs": [],
   "source": []
  },
  {
   "cell_type": "code",
   "execution_count": null,
   "id": "c994b253-777e-40d9-9019-fc8bfdbbc222",
   "metadata": {},
   "outputs": [],
   "source": []
  },
  {
   "cell_type": "code",
   "execution_count": null,
   "id": "51eda43b-5d17-4e21-8c2c-9905432edca4",
   "metadata": {},
   "outputs": [],
   "source": []
  },
  {
   "cell_type": "code",
   "execution_count": null,
   "id": "bd397666-4d83-432f-9e36-6df5124096af",
   "metadata": {},
   "outputs": [],
   "source": []
  },
  {
   "cell_type": "code",
   "execution_count": null,
   "id": "5731c389-5b8f-4dec-a2d7-fff6d9dd26ed",
   "metadata": {},
   "outputs": [],
   "source": []
  },
  {
   "cell_type": "code",
   "execution_count": null,
   "id": "fd939d75-32fa-4b59-b2fb-1fd84ec7a98a",
   "metadata": {},
   "outputs": [],
   "source": []
  }
 ],
 "metadata": {
  "kernelspec": {
   "display_name": "Python 3 (ipykernel)",
   "language": "python",
   "name": "python3"
  },
  "language_info": {
   "codemirror_mode": {
    "name": "ipython",
    "version": 3
   },
   "file_extension": ".py",
   "mimetype": "text/x-python",
   "name": "python",
   "nbconvert_exporter": "python",
   "pygments_lexer": "ipython3",
   "version": "3.9.7"
  }
 },
 "nbformat": 4,
 "nbformat_minor": 5
}
